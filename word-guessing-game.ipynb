{
 "cells": [
  {
   "cell_type": "code",
   "execution_count": 5,
   "id": "6dea4bc8",
   "metadata": {},
   "outputs": [
    {
     "name": "stdout",
     "output_type": "stream",
     "text": [
      "civies\n",
      "Round 1\n",
      "Your word has 6 letters.\n",
      "Guess a letter or a word.\n",
      "Congrats! You won!\n",
      "You have won 1 times. You have lost 0 times.\n",
      "Would you like to play again?\n",
      "uprises\n",
      "Round 2\n",
      "Your word has 7 letters.\n",
      "Guess a letter or a word.\n",
      "Congrats! You won!\n",
      "You have won 2 times. You have lost 0 times.\n",
      "Would you like to play again?\n",
      "I couldn't understand.\n",
      "Okay.\n"
     ]
    }
   ],
   "source": [
    "#using word dictionary file \n",
    "import random\n",
    "f = open(\"words_alpha.txt\")\n",
    "word_list = f.read().split()\n",
    "f.close()\n",
    "\n",
    "round = 0\n",
    "\n",
    "wins = 0\n",
    "losses = 0\n",
    "\n",
    "while round < 100:\n",
    "    play = str(input(\"Welcome to the Word Guessing Game. Would you like to play?\"))\n",
    "    if play == \"yes\" or play == \"Yes\":\n",
    "        word = random.choice(word_list)\n",
    "        print(word)\n",
    "        word_reveal = [\"_\"] * len(word)\n",
    "        round +=1\n",
    "        print(\"Round \" + str(round))\n",
    "        print(\"Your word has \" + str(len(word)) + \" letters.\")\n",
    "        print(\"Guess a letter or a word.\")\n",
    "        guesses_remaining = 7\n",
    "        while guesses_remaining>0:\n",
    "            guess = str(input(\"Guess a letter or a word: \"))\n",
    "            if len(guess) == 1:\n",
    "                if word.find(guess) != -1:\n",
    "                    for i in range(0,len(word)):\n",
    "                        if word[i] == guess:\n",
    "                            word_reveal[i] = guess\n",
    "                else:\n",
    "                    guesses_remaining-=1\n",
    "                    print(\"You guessed \" + str(guess) + \". That letter is not in the word. You have \" + str(guesses_remaining) + \" guesses remaining.\")\n",
    "            else:\n",
    "                if guess == word:\n",
    "                    print(\"Congrats! You won!\")\n",
    "                    wins +=1\n",
    "                    print(\"You have won \" + str(wins) + \" times. You have lost \" + str(losses) + \" times.\")\n",
    "                    print(\"Would you like to play again?\")\n",
    "                    break\n",
    "                else:\n",
    "                    guesses_remaining-=1\n",
    "                    print(\"You guessed \" + str(guess) + \". That is not the correct word. You have \" + str(guesses_remaining) + \" guesses remaining.\")\n",
    "            print(word_reveal)\n",
    "        else:\n",
    "            print(\"Game Over\")\n",
    "            print(\"The word was \" + str(word) + \".\")\n",
    "            losses +=1\n",
    "            print(\"You have won \" + str(wins) + \" times. You have lost \" + str(losses) + \" times.\")\n",
    "            print(\"Would you like to play again?\")\n",
    "    elif play == \"no\" or play == \"No\":\n",
    "        print(\"Okay.\")\n",
    "        break\n",
    "    else:\n",
    "        print(\"I couldn't understand.\")"
   ]
  }
 ],
 "metadata": {
  "kernelspec": {
   "display_name": "Python 3 (ipykernel)",
   "language": "python",
   "name": "python3"
  },
  "language_info": {
   "codemirror_mode": {
    "name": "ipython",
    "version": 3
   },
   "file_extension": ".py",
   "mimetype": "text/x-python",
   "name": "python",
   "nbconvert_exporter": "python",
   "pygments_lexer": "ipython3",
   "version": "3.9.7"
  }
 },
 "nbformat": 4,
 "nbformat_minor": 5
}
