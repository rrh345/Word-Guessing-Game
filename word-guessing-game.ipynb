{
 "cells": [
  {
   "cell_type": "code",
   "execution_count": 5,
   "id": "6dea4bc8",
   "metadata": {},
   "outputs": [
    {
     "name": "stdout",
     "output_type": "stream",
     "text": [
      "Welcome to Word Guessing Game. Your word has 9letters.\n",
      "You guessed e. That letter is not in the word. You have 6 guesses remaining.\n",
      "['_', '_', '_', '_', '_', '_', '_', '_', '_']\n",
      "['_', 'a', '_', '_', '_', '_', '_', '_', '_']\n",
      "You guessed i. That letter is not in the word. You have 5 guesses remaining.\n",
      "['_', 'a', '_', '_', '_', '_', '_', '_', '_']\n",
      "['_', 'a', '_', '_', '_', 'o', '_', '_', '_']\n",
      "['_', 'a', '_', '_', '_', 'o', 'u', '_', '_']\n",
      "['_', 'a', '_', '_', '_', 'o', 'u', '_', 's']\n",
      "['_', 'a', '_', '_', '_', 'o', 'u', 'r', 's']\n",
      "You guessed l. That letter is not in the word. You have 4 guesses remaining.\n",
      "['_', 'a', '_', '_', '_', 'o', 'u', 'r', 's']\n",
      "You guessed m. That letter is not in the word. You have 3 guesses remaining.\n",
      "['_', 'a', '_', '_', '_', 'o', 'u', 'r', 's']\n",
      "You guessed n. That letter is not in the word. You have 2 guesses remaining.\n",
      "['_', 'a', '_', '_', '_', 'o', 'u', 'r', 's']\n",
      "['_', 'a', 't', 't', '_', 'o', 'u', 'r', 's']\n",
      "You guessed g. That letter is not in the word. You have 1 guesses remaining.\n",
      "['_', 'a', 't', 't', '_', 'o', 'u', 'r', 's']\n",
      "You guessed f. That letter is not in the word. You have 0 guesses remaining.\n",
      "['_', 'a', 't', 't', '_', 'o', 'u', 'r', 's']\n",
      "Game Over\n",
      "The word was watthours\n"
     ]
    }
   ],
   "source": [
    "import random\n",
    "f = open(\"words_alpha.txt\")\n",
    "word_list = f.read().split()\n",
    "word = random.choice(word_list)\n",
    "f.close()\n",
    "word_reveal = [\"_\"] * len(word)\n",
    "guesses_remaining = 7\n",
    "\n",
    "print(\"Welcome to Word Guessing Game. Your word has \" + str(len(word)) + \" letters.\")\n",
    "\n",
    "while guesses_remaining>0:\n",
    "    guess = str(input(\"Guess a letter or a word: \"))\n",
    "    if len(guess) == 1:\n",
    "        if word.find(guess) != -1:\n",
    "            for i in range(0,len(word)):\n",
    "                if word[i] == guess:\n",
    "                    word_reveal[i] = guess\n",
    "        else:\n",
    "            guesses_remaining-=1\n",
    "            print(\"You guessed \" + str(guess) + \". That letter is not in the word. You have \" + str(guesses_remaining) + \" guesses remaining.\")\n",
    "    else:\n",
    "        if guess == word:\n",
    "            print(\"Congrats! You won!\")\n",
    "            break\n",
    "        else:\n",
    "            guesses_remaining-=1\n",
    "            print(\"You guessed \" + str(guess) + \". That is not the correct word. You have \" + str(guesses_remaining) + \" guesses remaining.\")\n",
    "    print(word_reveal)\n",
    "else:\n",
    "    print(\"Game Over\")\n",
    "\n",
    "print(\"The word was \" + str(word))"
   ]
  }
 ],
 "metadata": {
  "kernelspec": {
   "display_name": "Python 3 (ipykernel)",
   "language": "python",
   "name": "python3"
  },
  "language_info": {
   "codemirror_mode": {
    "name": "ipython",
    "version": 3
   },
   "file_extension": ".py",
   "mimetype": "text/x-python",
   "name": "python",
   "nbconvert_exporter": "python",
   "pygments_lexer": "ipython3",
   "version": "3.9.7"
  }
 },
 "nbformat": 4,
 "nbformat_minor": 5
}
