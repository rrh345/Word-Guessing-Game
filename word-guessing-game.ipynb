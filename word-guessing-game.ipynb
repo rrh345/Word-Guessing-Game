{
 "cells": [
  {
   "cell_type": "code",
   "execution_count": 8,
   "id": "6dea4bc8",
   "metadata": {},
   "outputs": [
    {
     "name": "stdout",
     "output_type": "stream",
     "text": [
      "Round 1\n",
      "Your word has 9 letters.\n",
      "['a', '_', '_', '_', '_', '_', '_', 'a', '_']\n",
      "['a', '_', '_', 'e', '_', 'e', '_', 'a', '_']\n",
      "You guessed i. That letter is not in the word. You have 6 guesses remaining.\n",
      "['a', '_', '_', 'e', '_', 'e', '_', 'a', '_']\n",
      "You guessed o. That letter is not in the word. You have 5 guesses remaining.\n",
      "['a', '_', '_', 'e', '_', 'e', '_', 'a', '_']\n",
      "You guessed u. That letter is not in the word. You have 4 guesses remaining.\n",
      "['a', '_', '_', 'e', '_', 'e', '_', 'a', '_']\n",
      "You guessed s. That letter is not in the word. You have 3 guesses remaining.\n",
      "['a', '_', '_', 'e', '_', 'e', '_', 'a', '_']\n",
      "['a', '_', 't', 'e', '_', 'e', '_', 'a', '_']\n",
      "You guessed r. That letter is not in the word. You have 2 guesses remaining.\n",
      "['a', '_', 't', 'e', '_', 'e', '_', 'a', '_']\n",
      "['a', '_', 't', 'e', 'l', 'e', '_', 'a', 'l']\n",
      "You guessed m. That letter is not in the word. You have 1 guesses remaining.\n",
      "['a', '_', 't', 'e', 'l', 'e', '_', 'a', 'l']\n",
      "['a', 'n', 't', 'e', 'l', 'e', '_', 'a', 'l']\n",
      "You guessed p. That letter is not in the word. You have 0 guesses remaining.\n",
      "['a', 'n', 't', 'e', 'l', 'e', '_', 'a', 'l']\n",
      "Game Over\n",
      "The word was antelegal.\n",
      "You have won 0 times. You have lost 1 times.\n",
      "Would you like to play again?\n",
      "Round 2\n",
      "Your word has 15 letters.\n",
      "['_', '_', '_', '_', '_', '_', '_', '_', 'a', '_', '_', '_', '_', 'a', '_']\n"
     ]
    },
    {
     "ename": "KeyboardInterrupt",
     "evalue": "Interrupted by user",
     "output_type": "error",
     "traceback": [
      "\u001b[1;31m---------------------------------------------------------------------------\u001b[0m",
      "\u001b[1;31mKeyboardInterrupt\u001b[0m                         Traceback (most recent call last)",
      "\u001b[1;32m~\\AppData\\Local\\Temp/ipykernel_8504/2729185764.py\u001b[0m in \u001b[0;36m<module>\u001b[1;34m\u001b[0m\n\u001b[0;32m     20\u001b[0m         \u001b[0mguesses_remaining\u001b[0m \u001b[1;33m=\u001b[0m \u001b[1;36m7\u001b[0m\u001b[1;33m\u001b[0m\u001b[1;33m\u001b[0m\u001b[0m\n\u001b[0;32m     21\u001b[0m         \u001b[1;32mwhile\u001b[0m \u001b[0mguesses_remaining\u001b[0m\u001b[1;33m>\u001b[0m\u001b[1;36m0\u001b[0m\u001b[1;33m:\u001b[0m\u001b[1;33m\u001b[0m\u001b[1;33m\u001b[0m\u001b[0m\n\u001b[1;32m---> 22\u001b[1;33m             \u001b[0mguess\u001b[0m \u001b[1;33m=\u001b[0m \u001b[0mstr\u001b[0m\u001b[1;33m(\u001b[0m\u001b[0minput\u001b[0m\u001b[1;33m(\u001b[0m\u001b[1;34m\"Guess a letter or a word: \"\u001b[0m\u001b[1;33m)\u001b[0m\u001b[1;33m)\u001b[0m\u001b[1;33m\u001b[0m\u001b[1;33m\u001b[0m\u001b[0m\n\u001b[0m\u001b[0;32m     23\u001b[0m             \u001b[1;32mif\u001b[0m \u001b[0mlen\u001b[0m\u001b[1;33m(\u001b[0m\u001b[0mguess\u001b[0m\u001b[1;33m)\u001b[0m \u001b[1;33m==\u001b[0m \u001b[1;36m1\u001b[0m\u001b[1;33m:\u001b[0m\u001b[1;33m\u001b[0m\u001b[1;33m\u001b[0m\u001b[0m\n\u001b[0;32m     24\u001b[0m                 \u001b[1;32mif\u001b[0m \u001b[0mword\u001b[0m\u001b[1;33m.\u001b[0m\u001b[0mfind\u001b[0m\u001b[1;33m(\u001b[0m\u001b[0mguess\u001b[0m\u001b[1;33m)\u001b[0m \u001b[1;33m!=\u001b[0m \u001b[1;33m-\u001b[0m\u001b[1;36m1\u001b[0m\u001b[1;33m:\u001b[0m\u001b[1;33m\u001b[0m\u001b[1;33m\u001b[0m\u001b[0m\n",
      "\u001b[1;32m~\\anaconda3\\lib\\site-packages\\ipykernel\\kernelbase.py\u001b[0m in \u001b[0;36mraw_input\u001b[1;34m(self, prompt)\u001b[0m\n\u001b[0;32m   1004\u001b[0m                 \u001b[1;34m\"raw_input was called, but this frontend does not support input requests.\"\u001b[0m\u001b[1;33m\u001b[0m\u001b[1;33m\u001b[0m\u001b[0m\n\u001b[0;32m   1005\u001b[0m             )\n\u001b[1;32m-> 1006\u001b[1;33m         return self._input_request(\n\u001b[0m\u001b[0;32m   1007\u001b[0m             \u001b[0mstr\u001b[0m\u001b[1;33m(\u001b[0m\u001b[0mprompt\u001b[0m\u001b[1;33m)\u001b[0m\u001b[1;33m,\u001b[0m\u001b[1;33m\u001b[0m\u001b[1;33m\u001b[0m\u001b[0m\n\u001b[0;32m   1008\u001b[0m             \u001b[0mself\u001b[0m\u001b[1;33m.\u001b[0m\u001b[0m_parent_ident\u001b[0m\u001b[1;33m[\u001b[0m\u001b[1;34m\"shell\"\u001b[0m\u001b[1;33m]\u001b[0m\u001b[1;33m,\u001b[0m\u001b[1;33m\u001b[0m\u001b[1;33m\u001b[0m\u001b[0m\n",
      "\u001b[1;32m~\\anaconda3\\lib\\site-packages\\ipykernel\\kernelbase.py\u001b[0m in \u001b[0;36m_input_request\u001b[1;34m(self, prompt, ident, parent, password)\u001b[0m\n\u001b[0;32m   1049\u001b[0m             \u001b[1;32mexcept\u001b[0m \u001b[0mKeyboardInterrupt\u001b[0m\u001b[1;33m:\u001b[0m\u001b[1;33m\u001b[0m\u001b[1;33m\u001b[0m\u001b[0m\n\u001b[0;32m   1050\u001b[0m                 \u001b[1;31m# re-raise KeyboardInterrupt, to truncate traceback\u001b[0m\u001b[1;33m\u001b[0m\u001b[1;33m\u001b[0m\u001b[0m\n\u001b[1;32m-> 1051\u001b[1;33m                 \u001b[1;32mraise\u001b[0m \u001b[0mKeyboardInterrupt\u001b[0m\u001b[1;33m(\u001b[0m\u001b[1;34m\"Interrupted by user\"\u001b[0m\u001b[1;33m)\u001b[0m \u001b[1;32mfrom\u001b[0m \u001b[1;32mNone\u001b[0m\u001b[1;33m\u001b[0m\u001b[1;33m\u001b[0m\u001b[0m\n\u001b[0m\u001b[0;32m   1052\u001b[0m             \u001b[1;32mexcept\u001b[0m \u001b[0mException\u001b[0m\u001b[1;33m:\u001b[0m\u001b[1;33m\u001b[0m\u001b[1;33m\u001b[0m\u001b[0m\n\u001b[0;32m   1053\u001b[0m                 \u001b[0mself\u001b[0m\u001b[1;33m.\u001b[0m\u001b[0mlog\u001b[0m\u001b[1;33m.\u001b[0m\u001b[0mwarning\u001b[0m\u001b[1;33m(\u001b[0m\u001b[1;34m\"Invalid Message:\"\u001b[0m\u001b[1;33m,\u001b[0m \u001b[0mexc_info\u001b[0m\u001b[1;33m=\u001b[0m\u001b[1;32mTrue\u001b[0m\u001b[1;33m)\u001b[0m\u001b[1;33m\u001b[0m\u001b[1;33m\u001b[0m\u001b[0m\n",
      "\u001b[1;31mKeyboardInterrupt\u001b[0m: Interrupted by user"
     ]
    }
   ],
   "source": [
    "#using word dictionary file \n",
    "import random\n",
    "f = open(\"words_alpha.txt\")\n",
    "word_list = f.read().split()\n",
    "f.close()\n",
    "\n",
    "round = 0\n",
    "\n",
    "wins = 0\n",
    "losses = 0\n",
    "\n",
    "while round < 100:\n",
    "    play = str(input(\"Welcome to the Word Guessing Game. Would you like to play?\"))\n",
    "    if play == \"yes\" or play == \"Yes\":\n",
    "        word = random.choice(word_list)\n",
    "        word_reveal = [\"_\"] * len(word)\n",
    "        round +=1\n",
    "        print(\"Round \" + str(round))\n",
    "        print(\"Your word has \" + str(len(word)) + \" letters.\")\n",
    "        guesses_remaining = 7\n",
    "        while guesses_remaining>0:\n",
    "            guess = str(input(\"Guess a letter or a word: \"))\n",
    "            if len(guess) == 1:\n",
    "                if word.find(guess) != -1:\n",
    "                    for i in range(0,len(word)):\n",
    "                        if word[i] == guess:\n",
    "                            word_reveal[i] = guess\n",
    "                else:\n",
    "                    guesses_remaining-=1\n",
    "                    print(\"You guessed \" + str(guess) + \". That letter is not in the word. You have \" + str(guesses_remaining) + \" guesses remaining.\")\n",
    "            else:\n",
    "                if guess == word:\n",
    "                    print(\"Congrats! You won!\")\n",
    "                    wins +=1\n",
    "                    print(\"You have won \" + str(wins) + \" times. You have lost \" + str(losses) + \" times.\")\n",
    "                    print(\"Would you like to play again?\")\n",
    "                else:\n",
    "                    guesses_remaining-=1\n",
    "                    print(\"You guessed \" + str(guess) + \". That is not the correct word. You have \" + str(guesses_remaining) + \" guesses remaining.\")\n",
    "            print(word_reveal)\n",
    "        else:\n",
    "            print(\"Game Over\")\n",
    "            print(\"The word was \" + str(word) + \".\")\n",
    "            losses +=1\n",
    "            print(\"You have won \" + str(wins) + \" times. You have lost \" + str(losses) + \" times.\")\n",
    "            print(\"Would you like to play again?\")\n",
    "    elif play == \"no\" or play == \"No\":\n",
    "        print(\"Okay.\")\n",
    "        break\n",
    "    else:\n",
    "        print(\"I couldn't understand.\")"
   ]
  }
 ],
 "metadata": {
  "kernelspec": {
   "display_name": "Python 3 (ipykernel)",
   "language": "python",
   "name": "python3"
  },
  "language_info": {
   "codemirror_mode": {
    "name": "ipython",
    "version": 3
   },
   "file_extension": ".py",
   "mimetype": "text/x-python",
   "name": "python",
   "nbconvert_exporter": "python",
   "pygments_lexer": "ipython3",
   "version": "3.9.7"
  }
 },
 "nbformat": 4,
 "nbformat_minor": 5
}
