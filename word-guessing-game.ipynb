{
 "cells": [
  {
   "cell_type": "code",
   "execution_count": null,
   "id": "6dea4bc8",
   "metadata": {},
   "outputs": [],
   "source": [
    "print(\"Welcome to Word Guessing Game\")\n",
    "word = \"happy\"\n",
    "guesses_remaining = 7\n",
    "word_reveal = [\"_\"] * len(word)\n",
    "\n",
    "while guesses_remaining>0:\n",
    "    guess = str(input(\"Guess a letter or a word: \"))\n",
    "    if len(guess) == 1:\n",
    "        if word.find(guess) != -1:\n",
    "            for i in range(0,len(word)):\n",
    "                if word[i] == guess:\n",
    "                    word_reveal[i] = guess\n",
    "        else:\n",
    "            guesses_remaining-=1\n",
    "            print(\"That letter is not in the word. You have \" + str(guesses_remaining) + \" guesses remaining.\")\n",
    "    else:\n",
    "        if guess == word:\n",
    "            print(\"Congrats! You won!\")\n",
    "            break\n",
    "        else:\n",
    "            guesses_remaining-=1\n",
    "            print(\"That is not the correct word. You have \" + str(guesses_remaining) + \" guesses remaining.\")\n",
    "    print(word_reveal)\n",
    "else:\n",
    "    print(\"Game Over\")"
   ]
  }
 ],
 "metadata": {
  "kernelspec": {
   "display_name": "Python 3 (ipykernel)",
   "language": "python",
   "name": "python3"
  },
  "language_info": {
   "codemirror_mode": {
    "name": "ipython",
    "version": 3
   },
   "file_extension": ".py",
   "mimetype": "text/x-python",
   "name": "python",
   "nbconvert_exporter": "python",
   "pygments_lexer": "ipython3",
   "version": "3.9.9"
  }
 },
 "nbformat": 4,
 "nbformat_minor": 5
}
